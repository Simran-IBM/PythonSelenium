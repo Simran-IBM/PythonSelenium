{
 "cells": [
  {
   "cell_type": "code",
   "execution_count": 13,
   "metadata": {},
   "outputs": [],
   "source": [
    "from selenium import webdriver\n",
    "import time\n",
    "import unittest"
   ]
  },
  {
   "cell_type": "code",
   "execution_count": 11,
   "metadata": {},
   "outputs": [],
   "source": [
    "\n",
    "\n",
    "class LoginTest(unittest.TestCase):\n",
    "    def setUp():\n",
    "        driver = webdriver.Chrome(executable_path=r\"C:\\Users\\simra\\Python_Selenium\\driver\\chromedriver.exe\")\n",
    "        driver.implicitly_wait(10)\n",
    "        driver.maximize_window()\n",
    "   \n",
    "   def testLogin():\n",
    "        driver.get(\"https://www.google.com/\")\n",
    "        ele = driver.find_element_by_name(\"q\")\n",
    "        ele.send_keys(\"Test Automation\")\n",
    "        ele.send_keys(Keys.RETURN)\n",
    "    \n",
    "    \n",
    "    def tearDown():\n",
    "        driver.quit()\n",
    "\n",
    "\n",
    "\n",
    "        \n",
    "\n"
   ]
  },
  {
   "cell_type": "code",
   "execution_count": 12,
   "metadata": {},
   "outputs": [],
   "source": []
  },
  {
   "cell_type": "code",
   "execution_count": null,
   "metadata": {},
   "outputs": [],
   "source": []
  }
 ],
 "metadata": {
  "kernelspec": {
   "display_name": "Python 3",
   "language": "python",
   "name": "python3"
  },
  "language_info": {
   "codemirror_mode": {
    "name": "ipython",
    "version": 3
   },
   "file_extension": ".py",
   "mimetype": "text/x-python",
   "name": "python",
   "nbconvert_exporter": "python",
   "pygments_lexer": "ipython3",
   "version": "3.7.3"
  }
 },
 "nbformat": 4,
 "nbformat_minor": 2
}
