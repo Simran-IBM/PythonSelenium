{
 "cells": [
  {
   "cell_type": "markdown",
   "metadata": {},
   "source": [
    "## Navigating a Web Page with Python and Selenium"
   ]
  },
  {
   "cell_type": "markdown",
   "metadata": {},
   "source": [
    "### 1. Dealing with Forms and dropdowns"
   ]
  },
  {
   "cell_type": "code",
   "execution_count": null,
   "metadata": {},
   "outputs": [],
   "source": [
    "from selenium import webdriver\n",
    "from selenium.webdriver.common.keys import Keys\n",
    "from selenium.webdriver.chrome.options import Options\n",
    "from selenium.webdriver.support.ui import WebDriverWait\n",
    "from selenium.webdriver.support import expected_conditions as EC\n",
    "from selenium.webdriver.common.by import By\n",
    "import time"
   ]
  },
  {
   "cell_type": "code",
   "execution_count": null,
   "metadata": {},
   "outputs": [],
   "source": [
    "chromeOptions=Options()\n",
    "#chromeOptions.add_argument(\"--kiosk\")\n",
    "chromeOptions.add_argument(\"--start-maximized\")"
   ]
  },
  {
   "cell_type": "code",
   "execution_count": null,
   "metadata": {},
   "outputs": [],
   "source": [
    "# 1.a Form\n",
    "driver = webdriver.Chrome(executable_path=r\"C:\\Users\\simra\\Python_Selenium\\driver\\chromedriver.exe\", options=chromeOptions)\n",
    "driver.get(\"https://www.pluralsight.com/buy?requestId=203e03a9-91ca-42bb-8642-dcfa25e8bad1&priceOptionId=7842f8ee-b0f3-471c-a011-d7ab435e1593&legacyTrackingId=IND-M-PLUS&time=1566114217952\")\n",
    "\n",
    "# web driver wait \n",
    "element = WebDriverWait(driver, 10).until(\n",
    "          EC.element_to_be_clickable((By.NAME, \"firstName\")))\n",
    "\n",
    "# firstname\n",
    "first_name = driver.find_element_by_name(\"firstName\")\n",
    "time.sleep(1)\n",
    "first_name.send_keys(\"Simran\")\n",
    "\n",
    "# lastname\n",
    "last_name=driver.find_element_by_name(\"lastName\")\n",
    "time.sleep(1)\n",
    "last_name.send_keys(\"Raina\")\n",
    "\n",
    "# email\n",
    "email = driver.find_element_by_name(\"email\")\n",
    "time.sleep(1)\n",
    "email.send_keys(\"simraina@gmail.com\")\n",
    "\n",
    "#confirmation email\n",
    "conf_email = driver.find_element_by_xpath(\"//*[@id='root']/div/div/div/div[3]/main/div[1]/div[2]/div[1]/div[4]/label/div[2]/div[1]/input\")\n",
    "time.sleep(1)\n",
    "conf_email.send_keys(\"simraina@gmail.com\")\n",
    "\n"
   ]
  },
  {
   "cell_type": "code",
   "execution_count": null,
   "metadata": {},
   "outputs": [],
   "source": [
    "driver = webdriver.Chrome(executable_path=r\"C:\\Users\\simra\\Python_Selenium\\driver\\chromedriver.exe\", options=chromeOptions)\n",
    "driver.get(\"https://www.pluralsight.com/buy?requestId=203e03a9-91ca-42bb-8642-dcfa25e8bad1&priceOptionId=7842f8ee-b0f3-471c-a011-d7ab435e1593&legacyTrackingId=IND-M-PLUS&time=1566114217952\")\n",
    "\n",
    "# Drop down\n",
    "time.sleep(2)\n",
    "country_element= driver.find_element_by_xpath(\"//select[@data-test='country']\")\n",
    "all_options = country_element.find_elements_by_tag_name(\"option\")\n",
    "\n",
    "for option in all_options:\n",
    "    if option.get_attribute(\"value\")==\"US\":\n",
    "        option.click()\n",
    "\n",
    "# check boxes\n",
    "time.sleep(1)\n",
    "checkbox = driver.find_element_by_xpath(\"//div[@role='checkbox']\")\n",
    "checkbox.click()\n",
    "\n",
    "# submit buton\n",
    "submit_ele = driver.find_element_by_xpath(\"//button[@data-test='submitButton']\")\n",
    "time.sleep(2)\n",
    "submit_ele.click()"
   ]
  },
  {
   "cell_type": "code",
   "execution_count": null,
   "metadata": {},
   "outputs": [],
   "source": [
    "driver.quit()"
   ]
  },
  {
   "cell_type": "markdown",
   "metadata": {},
   "source": [
    "## 2. Handling IFrames"
   ]
  },
  {
   "cell_type": "code",
   "execution_count": null,
   "metadata": {},
   "outputs": [],
   "source": [
    "driver.switch_to_frame(\"frameName\")\n",
    "driver.switch_to_default_content()"
   ]
  },
  {
   "cell_type": "markdown",
   "metadata": {},
   "source": [
    "## 3. Handling PopUps"
   ]
  },
  {
   "cell_type": "code",
   "execution_count": 1,
   "metadata": {},
   "outputs": [
    {
     "ename": "NameError",
     "evalue": "name 'driver' is not defined",
     "output_type": "error",
     "traceback": [
      "\u001b[1;31m---------------------------------------------------------------------------\u001b[0m",
      "\u001b[1;31mNameError\u001b[0m                                 Traceback (most recent call last)",
      "\u001b[1;32m<ipython-input-1-899d7860a305>\u001b[0m in \u001b[0;36m<module>\u001b[1;34m\u001b[0m\n\u001b[1;32m----> 1\u001b[1;33m \u001b[0mpopup\u001b[0m \u001b[1;33m=\u001b[0m \u001b[0mdriver\u001b[0m\u001b[1;33m.\u001b[0m\u001b[0mswitch_to_alert\u001b[0m\u001b[1;33m(\u001b[0m\u001b[1;33m)\u001b[0m\u001b[1;33m\u001b[0m\u001b[1;33m\u001b[0m\u001b[0m\n\u001b[0m",
      "\u001b[1;31mNameError\u001b[0m: name 'driver' is not defined"
     ]
    }
   ],
   "source": [
    "popup = driver.switch_to_alert()"
   ]
  },
  {
   "cell_type": "code",
   "execution_count": null,
   "metadata": {},
   "outputs": [],
   "source": []
  }
 ],
 "metadata": {
  "kernelspec": {
   "display_name": "Python 3",
   "language": "python",
   "name": "python3"
  },
  "language_info": {
   "codemirror_mode": {
    "name": "ipython",
    "version": 3
   },
   "file_extension": ".py",
   "mimetype": "text/x-python",
   "name": "python",
   "nbconvert_exporter": "python",
   "pygments_lexer": "ipython3",
   "version": "3.7.3"
  }
 },
 "nbformat": 4,
 "nbformat_minor": 2
}
