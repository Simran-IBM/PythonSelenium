{
 "cells": [
  {
   "cell_type": "code",
   "execution_count": 9,
   "metadata": {},
   "outputs": [],
   "source": [
    "from selenium import webdriver\n",
    "from selenium.webdriver.common.keys import Keys\n",
    "from selenium.webdriver.chrome.options import Options\n",
    "import time"
   ]
  },
  {
   "cell_type": "code",
   "execution_count": 20,
   "metadata": {},
   "outputs": [],
   "source": [
    "chromeOptions=Options()\n",
    "#chromeOptions.add_argument(\"--kiosk\")\n",
    "chromeOptions.add_argument(\"--start-maximized\")\n",
    "\n",
    "#driver.implicitly_wait(10)\n",
    "#driver.maximize_window()"
   ]
  },
  {
   "cell_type": "code",
   "execution_count": 21,
   "metadata": {},
   "outputs": [],
   "source": [
    "#driver = webdriver.Chrome()\n",
    "#driver = webdriver.Chrome(executable_path=r\"C:\\Users\\simra\\Python_Selenium\\driver\\chromedriver.exe\")\n",
    "#driver.get(\"https://www.google.com/\")"
   ]
  },
  {
   "cell_type": "code",
   "execution_count": 22,
   "metadata": {},
   "outputs": [],
   "source": [
    "#driver.quit()\n",
    "    # options = webdriver.ChromeOptions()\n",
    "    # options.add_argument(\"--ignore-certificate-errors\")\n",
    "    # options.add_argument(\"--incognito\")\n",
    "    # options.add_argument(\"--headless\")\n",
    "    # driver = webdriver.Chrome(options=options)"
   ]
  },
  {
   "cell_type": "code",
   "execution_count": 23,
   "metadata": {},
   "outputs": [],
   "source": [
    "# Locating Elements by Name\n",
    "driver = webdriver.Chrome(executable_path=r\"C:\\Users\\simra\\Python_Selenium\\driver\\chromedriver.exe\", options=chromeOptions)\n",
    "driver.get(\"https://www.google.com/\")\n",
    "\n",
    "ele = driver.find_element_by_name(\"q\")\n",
    "time.sleep(1)\n",
    "ele.clear()\n",
    "ele.send_keys(\"Test Automation\")\n",
    "ele.send_keys(Keys.RETURN)"
   ]
  },
  {
   "cell_type": "code",
   "execution_count": 30,
   "metadata": {},
   "outputs": [],
   "source": [
    "driver.quit()"
   ]
  },
  {
   "cell_type": "code",
   "execution_count": 25,
   "metadata": {},
   "outputs": [],
   "source": [
    "# Locating Elements by ID\n",
    "driver = webdriver.Chrome(executable_path=r\"C:\\Users\\simra\\Python_Selenium\\driver\\chromedriver.exe\", options=chromeOptions)\n",
    "driver.get(\"https://www.python.org/\")\n",
    "\n",
    "ele = driver.find_element_by_id(\"id-search-field\")\n",
    "time.sleep(1)\n",
    "ele.clear()\n",
    "ele.send_keys(\"tuple\")\n",
    "ele.send_keys(Keys.RETURN)"
   ]
  },
  {
   "cell_type": "code",
   "execution_count": 31,
   "metadata": {},
   "outputs": [],
   "source": [
    "# Locating Element by linktext and partial linktext\n",
    "driver = webdriver.Chrome(executable_path=r\"C:\\Users\\simra\\Python_Selenium\\driver\\chromedriver.exe\", options=chromeOptions)\n",
    "driver.get(\"https://www.google.com/\")\n",
    "\n",
    "ele = driver.find_element_by_name(\"q\")\n",
    "time.sleep(1)\n",
    "ele.clear()\n",
    "ele.send_keys(\"Test Automation\")\n",
    "ele.send_keys(Keys.RETURN)\n",
    "              \n",
    "ele1 = driver.find_element_by_link_text(\"Pricing\")\n",
    "# ele2 = driver.find_element_by_partial_link_text(\"Pric\")\n",
    "time.sleep(1)\n",
    "ele1.click()"
   ]
  },
  {
   "cell_type": "code",
   "execution_count": 33,
   "metadata": {},
   "outputs": [],
   "source": [
    "# Locating Element by CSS Selector\n",
    "driver = webdriver.Chrome(executable_path=r\"C:\\Users\\simra\\Python_Selenium\\driver\\chromedriver.exe\", options=chromeOptions)\n",
    "driver.get(\"https://www.pluralsight.com/\")\n",
    "\n",
    "ele = driver.find_element_by_css_selector(\"input.header_search--input\")\n",
    "time.sleep(1)\n",
    "ele.clear()\n",
    "ele.send_keys(\"Test Automation\")\n",
    "ele.send_keys(Keys.RETURN)"
   ]
  },
  {
   "cell_type": "code",
   "execution_count": 35,
   "metadata": {},
   "outputs": [],
   "source": [
    "# Locating Element by XPath\n",
    "driver = webdriver.Chrome(executable_path=r\"C:\\Users\\simra\\Python_Selenium\\driver\\chromedriver.exe\", options=chromeOptions)\n",
    "driver.get(\"https://www.google.com/\")\n",
    "\n",
    "ele = driver.find_element_by_xpath(\"//*[@name='q']\")\n",
    "time.sleep(1)\n",
    "ele.clear()\n",
    "ele.send_keys(\"Test Automation\")\n",
    "ele.send_keys(Keys.RETURN)"
   ]
  },
  {
   "cell_type": "code",
   "execution_count": 36,
   "metadata": {},
   "outputs": [],
   "source": [
    "driver.quit()"
   ]
  },
  {
   "cell_type": "code",
   "execution_count": null,
   "metadata": {},
   "outputs": [],
   "source": []
  }
 ],
 "metadata": {
  "kernelspec": {
   "display_name": "Python 3",
   "language": "python",
   "name": "python3"
  },
  "language_info": {
   "codemirror_mode": {
    "name": "ipython",
    "version": 3
   },
   "file_extension": ".py",
   "mimetype": "text/x-python",
   "name": "python",
   "nbconvert_exporter": "python",
   "pygments_lexer": "ipython3",
   "version": "3.7.3"
  }
 },
 "nbformat": 4,
 "nbformat_minor": 2
}
